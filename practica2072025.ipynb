{
 "cells": [
  {
   "cell_type": "markdown",
   "id": "3effbdeb",
   "metadata": {},
   "source": [
    "Gauss Seidel \n",
    "\n",
    "$x_i^{k+1} = \\frac{1}{a_{ii}}(b_i - \\sum_{j=1}^{i-1} a_{ij} x_j^{k+1}-\\sum_{j=1}^{i-1} a_{ij} x_j^{k} )$\n"
   ]
  },
  {
   "cell_type": "code",
   "execution_count": 12,
   "id": "8bfddfed",
   "metadata": {},
   "outputs": [],
   "source": [
    "import numpy as np\n",
    "from numpy.linalg import norm\n",
    "\n",
    "def gauss_seidel(A,b,x0,tolerancia):\n",
    "    k=0\n",
    "    x = x0.copy()\n",
    "    while norm(b-A*x)>tolerance and k<=100:\n",
    "        x_n = x.copy()\n",
    "        for i in range(len(A)):\n",
    "            s1 = 0\n",
    "            s2 = 0\n",
    "            for j in range(0,i-1):\n",
    "                s1 = A[i,j]*x[j]\n",
    "            for j in range(i+1,len(A)):\n",
    "                s2 = A[i,j]*x_n[j]\n",
    "            x[i] = (b[i]-s1-s2)/A[i,i]  \n",
    "        k += 1\n",
    "    return x,k\n"
   ]
  },
  {
   "cell_type": "code",
   "execution_count": 20,
   "id": "71d7ec2e",
   "metadata": {},
   "outputs": [
    {
     "ename": "NameError",
     "evalue": "name 'tolerance' is not defined",
     "output_type": "error",
     "traceback": [
      "\u001b[1;31m---------------------------------------------------------------------------\u001b[0m",
      "\u001b[1;31mNameError\u001b[0m                                 Traceback (most recent call last)",
      "Cell \u001b[1;32mIn[20], line 10\u001b[0m\n\u001b[0;32m      8\u001b[0m x0 \u001b[38;5;241m=\u001b[39m np\u001b[38;5;241m.\u001b[39marray([\u001b[38;5;241m0\u001b[39m])\n\u001b[0;32m      9\u001b[0m tolerancia \u001b[38;5;241m=\u001b[39m \u001b[38;5;241m0.2\u001b[39m\n\u001b[1;32m---> 10\u001b[0m x,k\u001b[38;5;241m=\u001b[39mgauss_seidel(A,b,x0,tolerancia)\n\u001b[0;32m     11\u001b[0m \u001b[38;5;28mprint\u001b[39m(x)\n\u001b[0;32m     12\u001b[0m \u001b[38;5;28mprint\u001b[39m(k)\n",
      "Cell \u001b[1;32mIn[12], line 7\u001b[0m, in \u001b[0;36mgauss_seidel\u001b[1;34m(A, b, x0, tolerancia)\u001b[0m\n\u001b[0;32m      5\u001b[0m k\u001b[38;5;241m=\u001b[39m\u001b[38;5;241m0\u001b[39m\n\u001b[0;32m      6\u001b[0m x \u001b[38;5;241m=\u001b[39m x0\u001b[38;5;241m.\u001b[39mcopy()\n\u001b[1;32m----> 7\u001b[0m \u001b[38;5;28;01mwhile\u001b[39;00m norm(b\u001b[38;5;241m-\u001b[39mA\u001b[38;5;241m*\u001b[39mx)\u001b[38;5;241m>\u001b[39mtolerance \u001b[38;5;129;01mand\u001b[39;00m k\u001b[38;5;241m<\u001b[39m\u001b[38;5;241m=\u001b[39m\u001b[38;5;241m100\u001b[39m:\n\u001b[0;32m      8\u001b[0m     x_n \u001b[38;5;241m=\u001b[39m x\u001b[38;5;241m.\u001b[39mcopy()\n\u001b[0;32m      9\u001b[0m     \u001b[38;5;28;01mfor\u001b[39;00m i \u001b[38;5;129;01min\u001b[39;00m \u001b[38;5;28mrange\u001b[39m(\u001b[38;5;28mlen\u001b[39m(A)):\n",
      "\u001b[1;31mNameError\u001b[0m: name 'tolerance' is not defined"
     ]
    }
   ],
   "source": [
    "B = np.array([[1,2,3],[1,4,3],[3,2,1]])\n",
    "C = np.transpose(B)\n",
    "#print(B)\n",
    "#print(C)\n",
    "A = np.dot(B,C)\n",
    "#print(A)\n",
    "b = np.array([1,2,3])\n",
    "x0 = np.array([0])\n",
    "tolerancia = 0.2\n",
    "x,k=gauss_seidel(A,b,x0,tolerancia)\n",
    "print(x)\n",
    "print(k)\n"
   ]
  }
 ],
 "metadata": {
  "kernelspec": {
   "display_name": "base",
   "language": "python",
   "name": "python3"
  },
  "language_info": {
   "codemirror_mode": {
    "name": "ipython",
    "version": 3
   },
   "file_extension": ".py",
   "mimetype": "text/x-python",
   "name": "python",
   "nbconvert_exporter": "python",
   "pygments_lexer": "ipython3",
   "version": "3.12.7"
  }
 },
 "nbformat": 4,
 "nbformat_minor": 5
}
