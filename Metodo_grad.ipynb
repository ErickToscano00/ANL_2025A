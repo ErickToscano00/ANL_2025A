{
 "cells": [
  {
   "cell_type": "code",
   "execution_count": 29,
   "id": "9384ec5e",
   "metadata": {},
   "outputs": [],
   "source": [
    "import numpy as np"
   ]
  },
  {
   "cell_type": "code",
   "execution_count": null,
   "id": "79cc8782",
   "metadata": {},
   "outputs": [],
   "source": [
    "def metodo_gradiante(A,b,x, tole):\n",
    "    r = b - A @ x\n",
    "    p = r\n",
    "    K = 1\n",
    "    while (np.linalg.norm(r)>=tole and k<100 ):\n",
    "        sigma = (r @ p)/(p @ A @ p)\n",
    "        x = x + sigma*p\n",
    "        r = (b - A @ x)\n",
    "        B =  (np.transpose(p) @ A @ r)/(np.transpose(p) @ A @ p)\n",
    "        p = r + B*p\n",
    "        k = k+1\n",
    "    return x"
   ]
  },
  {
   "cell_type": "code",
   "execution_count": 54,
   "id": "595f22a8",
   "metadata": {},
   "outputs": [],
   "source": [
    "def metodo_gradiant(A, b, x, tole):\n",
    "    r = b - A @ x\n",
    "    p = r\n",
    "    k = 0  # Initialize k\n",
    "    while np.linalg.norm(r) >= tole and k < 1000:\n",
    "        sigma = (r @ r) / (p @ A @ p) \n",
    "        x = x + sigma * p\n",
    "        r_new = b - A @ x  \n",
    "        beta = (r_new @ r_new) / (r @ r) \n",
    "        p = r_new + beta * p\n",
    "        r = r_new \n",
    "        k = k + 1\n",
    "    return x"
   ]
  },
  {
   "cell_type": "code",
   "execution_count": 55,
   "id": "7924f6c2",
   "metadata": {},
   "outputs": [
    {
     "data": {
      "text/plain": [
       "array([ 0.17592593,  0.05555556, -0.06481481])"
      ]
     },
     "execution_count": 55,
     "metadata": {},
     "output_type": "execute_result"
    }
   ],
   "source": [
    "B = np.array([[1,2,3],[4,5,6],[7,8,9]])\n",
    "C = np.transpose(B)\n",
    "A = B@C\n",
    "b = np.array([1,2,3])\n",
    "x = np.array([0,0,0])\n",
    "tole = 1e-8\n",
    "metodo_gradiant(A,b,x,tole)"
   ]
  },
  {
   "cell_type": "code",
   "execution_count": null,
   "id": "2d459aad",
   "metadata": {},
   "outputs": [],
   "source": [
    "def metodo_gradiant(A, b, x):\n",
    "    r = b - A @ x\n",
    "    p = r\n",
    "    k = 0 \n",
    "    evol = []\n",
    "    res = []\n",
    "    while np.linalg.norm(r) >= 1e-8:\n",
    "        sigma = (r.T @ P) / (p.T @ A @ p) \n",
    "        x = x + sigma * r   \n",
    "        r = b - A @ x  \n",
    "        beta = (p.T @ r) / (p.T @ A @ p) \n",
    "        p = r_new + beta * p\n",
    "        r = r_new \n",
    "        k = k + 1\n",
    "    return x"
   ]
  }
 ],
 "metadata": {
  "kernelspec": {
   "display_name": "venv",
   "language": "python",
   "name": "python3"
  },
  "language_info": {
   "codemirror_mode": {
    "name": "ipython",
    "version": 3
   },
   "file_extension": ".py",
   "mimetype": "text/x-python",
   "name": "python",
   "nbconvert_exporter": "python",
   "pygments_lexer": "ipython3",
   "version": "3.13.2"
  }
 },
 "nbformat": 4,
 "nbformat_minor": 5
}
